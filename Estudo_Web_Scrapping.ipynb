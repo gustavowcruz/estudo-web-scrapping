{
  "nbformat": 4,
  "nbformat_minor": 0,
  "metadata": {
    "colab": {
      "provenance": []
    },
    "kernelspec": {
      "name": "python3",
      "display_name": "Python 3"
    },
    "language_info": {
      "name": "python"
    }
  },
  "cells": [
    {
      "cell_type": "code",
      "source": [
        "pip install beautifulsoup4"
      ],
      "metadata": {
        "id": "BPp3evhKMsw8",
        "colab": {
          "base_uri": "https://localhost:8080/"
        },
        "outputId": "6ecde3f7-012c-43c2-834b-33882695707b"
      },
      "execution_count": 8,
      "outputs": [
        {
          "output_type": "stream",
          "name": "stdout",
          "text": [
            "Requirement already satisfied: beautifulsoup4 in /usr/local/lib/python3.12/dist-packages (4.13.4)\n",
            "Requirement already satisfied: soupsieve>1.2 in /usr/local/lib/python3.12/dist-packages (from beautifulsoup4) (2.7)\n",
            "Requirement already satisfied: typing-extensions>=4.0.0 in /usr/local/lib/python3.12/dist-packages (from beautifulsoup4) (4.14.1)\n"
          ]
        }
      ]
    },
    {
      "cell_type": "code",
      "source": [
        "import requests\n",
        "import urllib\n",
        "from bs4 import BeautifulSoup"
      ],
      "metadata": {
        "id": "bguhQtlESVxm"
      },
      "execution_count": 16,
      "outputs": []
    },
    {
      "cell_type": "code",
      "execution_count": 10,
      "metadata": {
        "id": "oXeHGAtbAJgO",
        "colab": {
          "base_uri": "https://localhost:8080/"
        },
        "outputId": "137b6b65-eb85-464f-8190-a64e43e013d9"
      },
      "outputs": [
        {
          "output_type": "stream",
          "name": "stdout",
          "text": [
            "O título da página é: Persona 3 Reload | Jogos para PS5 e PS4 | PlayStation (Brasil) . \n",
            "O preço do jogo é R$349,90.\n"
          ]
        }
      ],
      "source": [
        "# Opção 1 utilizando a biblioteca requests\n",
        "\n",
        "url = 'https://www.playstation.com/pt-br/games/persona-3-reload/'\n",
        "response = requests.get(url)\n",
        "\n",
        "if response.status_code == 200:\n",
        "    soup = BeautifulSoup(response.text, 'html.parser')\n",
        "    titulo = soup.find('title').get_text()\n",
        "    preco = soup.find('span',attrs={'data-qa':'mfeCtaMain#offer0#finalPrice'}).get_text()\n",
        "    print(f\"O título da página é: {titulo}. \\nO preço do jogo é {preco}.\")\n",
        "else:\n",
        "    print(\"Falha ao acessar a página.\")"
      ]
    },
    {
      "cell_type": "code",
      "source": [
        "# Opção 2 utilizando a biblioteca urllib\n",
        "\n",
        "url = 'https://store.playstation.com/pt-br/product/UP0177-PPSA20800_00-METAPHORNA000001'\n",
        "pagina = urllib.request.urlopen(url)\n",
        "\n",
        "if response.status_code == 200:\n",
        "  soup = BeautifulSoup(pagina, 'html.parser')\n",
        "  titulo = soup.find('title').get_text()\n",
        "  preco = soup.find('span' , attrs={'data-qa':'mfeCtaMain#offer1#finalPrice'}).get_text()\n",
        "  print(f\"O título da página é: {titulo}.\\nO preço do jogo é {preco}.\")\n",
        "else:\n",
        "  print(\"Falha ao acessar a página.\")"
      ],
      "metadata": {
        "id": "CzbpZdFPRneV",
        "colab": {
          "base_uri": "https://localhost:8080/"
        },
        "outputId": "3365f41b-6cd7-4a02-cabc-ec5c528784e4"
      },
      "execution_count": 24,
      "outputs": [
        {
          "output_type": "stream",
          "name": "stdout",
          "text": [
            "O título da página é: Metaphor: ReFantazio.\n",
            "O preço do jogo é R$349,90.\n"
          ]
        }
      ]
    },
    {
      "cell_type": "code",
      "source": [
        "# ajustes de bucsa\n",
        "\n",
        "url = 'https://www.playstation.com/pt-br/games/resident-evil-4-remake/'\n",
        "response = requests.get(url)\n",
        "\n",
        "if response.status_code == 200:\n",
        "    soup = BeautifulSoup(response.text, 'html.parser')\n",
        "    titulo = soup.find('h1', attrs={'class', 'game-title'}).get_text()\n",
        "    preco = soup.find('span',attrs={'data-qa':'mfeCtaMain#offer0#finalPrice'}).get_text()\n",
        "\n",
        "    try:\n",
        "      preco_inicial = soup.find('span', attrs={'data-qa':\"mfeCtaMain#offer0#originalPrice\"}).get_text()\n",
        "    except AttributeError:\n",
        "      preco_inicial = None\n",
        "\n",
        "    print(f\"O título da jogo é: {titulo}. \\nO preço do jogo é {preco}.\")\n",
        "\n",
        "    if preco_inicial:\n",
        "      print(f'Houve um desconto. Antes o preço era de {preco_inicial}')\n",
        "else:\n",
        "    print(\"Falha ao acessar a página.\")"
      ],
      "metadata": {
        "id": "aVUmBR6aVTv4",
        "colab": {
          "base_uri": "https://localhost:8080/"
        },
        "outputId": "08e6f16d-ac8e-4c49-c99a-b745a8e73388"
      },
      "execution_count": 36,
      "outputs": [
        {
          "output_type": "stream",
          "name": "stdout",
          "text": [
            "O título da jogo é: Resident Evil 4 Remake. \n",
            "O preço do jogo é R$99,75.\n",
            "Houve um desconto. Antes o preço era de R$199,50\n"
          ]
        }
      ]
    },
    {
      "cell_type": "code",
      "source": [
        "url = 'https://www.playstation.com/pt-br/games/persona-5/'\n",
        "response = requests.get(url)\n",
        "\n",
        "if response.status_code == 200:\n",
        "    soup = BeautifulSoup(response.text, 'html.parser')\n",
        "    titulo = soup.find('h1', attrs={'data-qa': 'mfe-game-title#name'}).get_text()\n",
        "    preco = soup.find('span',attrs={'data-qa':'mfeCtaMain#offer0#finalPrice'}).get_text()\n",
        "\n",
        "    try:\n",
        "      preco_inicial = soup.find('span', attrs={'data-qa':\"mfeCtaMain#offer0#originalPrice\"}).get_text()\n",
        "    except AttributeError:\n",
        "      preco_inicial = None\n",
        "\n",
        "    print(f\"O título da jogo é: {titulo}. \\nO preço do jogo é {preco}.\")\n",
        "\n",
        "    if preco_inicial:\n",
        "      print(f'Houve um desconto. Antes o preço era de {preco_inicial}')\n",
        "else:\n",
        "    print(\"Falha ao acessar a página.\")"
      ],
      "metadata": {
        "colab": {
          "base_uri": "https://localhost:8080/"
        },
        "id": "vW5AzaFSabc2",
        "outputId": "c7eceac8-1823-4831-8ef4-509b73cce999"
      },
      "execution_count": 33,
      "outputs": [
        {
          "output_type": "stream",
          "name": "stdout",
          "text": [
            "O título da jogo é: Persona 5. \n",
            "O preço do jogo é R$49,75.\n",
            "Houve um desconto. Antes o preço era de R$99,50\n"
          ]
        }
      ]
    }
  ]
}